{
 "cells": [
  {
   "cell_type": "markdown",
   "metadata": {},
   "source": [
    "## Chaining\n",
    "\n",
    "We can chain transformations and action to create a computation pipeline. Suppose we want to compute the sum of the squares where the elements $x_i$ are stored in an RDD. $$ \\sum_{i=1}^n x_i^2 $$"
   ]
  },
  {
   "cell_type": "markdown",
   "metadata": {},
   "source": [
    "## Start the Sparkcontext"
   ]
  },
  {
   "cell_type": "code",
   "execution_count": 1,
   "metadata": {},
   "outputs": [],
   "source": [
    "import numpy as np\n",
    "from pyspark import SparkContext"
   ]
  },
  {
   "cell_type": "code",
   "execution_count": 2,
   "metadata": {},
   "outputs": [],
   "source": [
    "sc = SparkContext(master=\"local[4]\")"
   ]
  },
  {
   "cell_type": "code",
   "execution_count": 4,
   "metadata": {},
   "outputs": [
    {
     "name": "stdout",
     "output_type": "stream",
     "text": [
      "2, 1, 3, 4, 5, 3, 9, 9, 5, 2, 0, 1, 0, 2, 4, 8, 3, 4, 4, 0, 9, 3, 5, 7, 5, 1, 8, 1, 7, 4, 8, 0, 9, 4, 6, 4, 5, 0, 9, 7, 7, 5, 7, 8, 8, 7, 2, 8, 7, 2, 8, 1, 8, 8, 0, 0, 8, 8, 3, 2, 6, 8, 8, 4, 2, 0, 5, 1, 3, 8, 8, 6, 7, 2, 3, 1, 8, 0, 2, 0, 1, 5, 0, 6, 0, 7, 2, 9, 9, 8, 1, 8, 2, 6, 1, 7, 2, 7, 5, 1, 2, 4, 0, 0, 8, 9, 7, 1, 9, 9, 2, 7, 1, 2, 0, 9, 0, 2, 9, 2, 2, 3, 0, 9, 9, 7, 8, 9, 1, 0, 9, 4, 6, 4, 3, 0, 1, 3, 8, 0, 8, 1, 2, 8, 7, 5, 4, 8, 4, 3, 5, 4, 0, 6, 0, 6, 0, 5, 0, 0, 2, 7, 8, 8, 5, 2, 9, 4, 6, 2, 2, 9, 5, 6, 3, 1, 4, 0, 0, 6, 7, 2, 0, 4, 0, 1, 4, 9, 2, 6, 7, 6, 3, 6, 7, 9, 2, 0, 9, 8, 2, 7, 0, 2, 0, 0, 0, 7, 9, 5, 3, 8, 7, 9, 3, 1, 1, 7, 9, 2, 4, 7, 2, 5, 8, 3, 6, 4, 8, 1, 2, 2, 1, 2, 5, 9, 2, 2, 5, 5, 0, 3, 4, 5, 5, 0, 3, 6, 3, 9, 4, 0, 8, 1, 6, 1, 9, 9, 7, 5, 8, 7, 1, 9, 1, 3, 6, 9, 6, 8, 9, 4, 9, 7, 8, 1, 8, 3, 3, 9, 5, 3, 7, 4, 9, 5, 7, 5, 1, 5, 6, 4, 2, 6, 3, 8, 4, 9, 2, 9, 4, 7, 6, 6, 4, 8, 7, 7, 3, 3, 6, 9, 3, 1, 6, 6, 5, 2, 2, 3, 6, 3, 8, 6, 6, 7, 7, 0, 4, 4, 1, 7, 6, 7, 8, 9, 4, 2, 1, 8, 6, 5, 9, 2, 4, 6, 2, 9, 8, 9, 4, 9, 3, 0, 3, 2, 4, 9, 1, 6, 8, 5, 4, 4, 1, 7, 2, 7, 3, 8, 4, 6, 3, 5, 1, 0, 9, 7, 0, 2, 5, 8, 9, 9, 3, 3, 4, 5, 4, 7, 9, 1, 7, 1, 3, 2, 5, 5, 4, 2, 3, 2, 0, 5, 7, 0, 7, 3, 7, 1, 7, 7, 4, 5, 6, 6, 4, 5, 4, 8, 1, 8, 2, 8, 5, 1, 5, 9, 1, 6, 5, 3, 9, 2, 9, 7, 4, 6, 8, 1, 5, 4, 4, 6, 7, 9, 4, 6, 1, 9, 0, 3, 3, 6, 9, 7, 8, 2, 9, 1, 8, 3, 0, 6, 5, 1, 4, 8, 4, 7, 6, 2, 9, 2, 8, 2, 4, 2, 1, 9, 8, 7, 2, 0, 8, 6, 8, 6, 6, 3, 1, 3, 6, 4, 8, 0, 1, 8, 7, 9, 5, 7, 7, 2, 7, 9, 4, 5, 4, 7, 3, 9, 7, 2, 7, 1, 3, 8, 6, 1, 7, 3, 3, 9, 7, 7, 1, 5, 3, 3, 4, 2, 8, 0, 4, 6, 6, 3, 4, 8, 5, 1, 3, 5, 3, 5, 2, 3, 2, 3, 8, 8, 5, 6, 3, 0, 9, 1, 6, 3, 7, 1, 3, 3, 9, 6, 5, 8, 8, 6, 1, 7, 5, 2, 0, 4, 0, 8, 5, 0, 8, 7, 2, 0, 4, 7, 1, 2, 8, 9, 9, 3, 1, 2, 7, 3, 1, 7, 2, 1, 8, 6, 4, 3, 2, 8, 6, 6, 5, 2, 9, 4, 8, 2, 6, 9, 0, 9, 6, 4, 9, 3, 8, 1, 4, 3, 3, 1, 5, 6, 8, 5, 8, 7, 0, 1, 0, 8, 7, 3, 9, 8, 2, 0, 2, 2, 1, 5, 9, 8, 5, 2, 7, 6, 9, 5, 9, 8, 5, 4, 4, 0, 6, 2, 9, 7, 1, 5, 5, 3, 3, 4, 3, 1, 3, 9, 5, 0, 3, 0, 5, 0, 4, 8, 0, 5, 8, 9, 3, 6, 6, 1, 3, 4, 7, 3, 2, 4, 1, 6, 8, 9, 4, 8, 2, 5, 4, 3, 6, 4, 5, 3, 5, 5, 3, 3, 3, 3, 1, 5, 8, 9, 0, 1, 1, 8, 9, 9, 8, 3, 9, 1, 9, 2, 1, 5, 4, 4, 4, 2, 4, 2, 2, 9, 6, 0, 4, 4, 7, 6, 0, 2, 8, 6, 4, 2, 2, 3, 5, 4, 4, 8, 8, 2, 0, 2, 1, 9, 6, 8, 1, 4, 9, 3, 8, 8, 8, 9, 1, 9, 5, 8, 6, 4, 6, 1, 0, 4, 4, 8, 0, 7, 2, 5, 5, 4, 2, 4, 4, 6, 3, 3, 1, 5, 0, 2, 0, 7, 8, 0, 3, 4, 4, 4, 6, 7, 0, 9, 8, 2, 1, 1, 3, 8, 6, 1, 1, 0, 9, 9, 7, 7, 3, 1, 2, 3, 0, 7, 8, 4, 8, 8, 6, 8, 9, 5, 8, 4, 3, 5, 2, 5, 0, 4, 0, 5, 1, 4, 7, 5, 2, 1, 4, 4, 8, 7, 9, 4, 5, 7, 6, 1, 3, 3, 5, 0, 0, 2, 7, 4, 2, 9, 3, 9, 6, 2, 4, 2, 6, 2, 8, 8, 1, 8, 6, 8, 0, 2, 4, 2, 1, 1, 9, 8, 3, 0, 3, 6, 3, 9, 7, 8, 2, 3, 7, 7, 0, 4, 4, 8, 1, 6, 0, 9, 2, 1, 6, 7, 0, 7, 2, 2, 1, 2, 3, 9, 0, 5, 8, 3, 6, 6, 7, 4, 5, 7, 6, 6, 8, 9, 0, 4, 9, 5, 6, 6, 0, 3, 3, 9, 4, 4, 7, 0, 2, 2, 0, 4, 8, 3, 1, 3, 8, 4, 3, 1, 6, 4, 6, 2, 0, 8, 8, 0, 9, 2, 6, 9, 9, 4, 2, 8, 2, 2, 0, 8, 1, 2, 3, 7, "
     ]
    }
   ],
   "source": [
    "B = sc.parallelize(np.random.randint(0,10,size=1000))\n",
    "lst = B.collect()\n",
    "for i in lst:\n",
    "    print(i,end=', ')"
   ]
  },
  {
   "cell_type": "markdown",
   "metadata": {},
   "source": [
    "## Sequential syntax for chaining\n",
    "\n",
    "Perform assignment after each computation"
   ]
  },
  {
   "cell_type": "code",
   "execution_count": 6,
   "metadata": {},
   "outputs": [
    {
     "name": "stdout",
     "output_type": "stream",
     "text": [
      "CPU times: user 7.72 ms, sys: 2.11 ms, total: 9.84 ms\n",
      "Wall time: 454 ms\n"
     ]
    }
   ],
   "source": [
    "%%time\n",
    "Squares = B.map(lambda x:x*x)\n",
    "summation = Squares.reduce(lambda x,y:x+y)"
   ]
  },
  {
   "cell_type": "code",
   "execution_count": 8,
   "metadata": {},
   "outputs": [
    {
     "name": "stdout",
     "output_type": "stream",
     "text": [
      "29022\n"
     ]
    }
   ],
   "source": [
    "print(summation)"
   ]
  },
  {
   "cell_type": "markdown",
   "metadata": {},
   "source": [
    "## Cascaded syntax for chaining\n",
    "\n",
    "Combine computations into a single cascaded command"
   ]
  },
  {
   "cell_type": "code",
   "execution_count": 9,
   "metadata": {},
   "outputs": [
    {
     "name": "stdout",
     "output_type": "stream",
     "text": [
      "CPU times: user 3.76 ms, sys: 2.3 ms, total: 6.06 ms\n",
      "Wall time: 141 ms\n"
     ]
    },
    {
     "data": {
      "text/plain": [
       "29022"
      ]
     },
     "execution_count": 9,
     "metadata": {},
     "output_type": "execute_result"
    }
   ],
   "source": [
    "%%time\n",
    "B.map(lambda x:x*x).reduce(lambda x,y:x+y)"
   ]
  },
  {
   "cell_type": "markdown",
   "metadata": {},
   "source": [
    "### Both syntaxes mean exactly the same thing\n",
    "\n",
    "The only difference:\n",
    "1. In the sequential syntax the intermediate RDD has a name Squares\n",
    "2. In the cascaded syntax the intermediate RDD is anonymous\n",
    "\n",
    "The execution is identical"
   ]
  },
  {
   "cell_type": "markdown",
   "metadata": {},
   "source": [
    "### Sequential execution\n",
    "\n",
    "The standard way that the map and reduce are executed is\n",
    "1. perform the map\n",
    "2. store the resulting RDD in memory\n",
    "3. perform the reduce"
   ]
  },
  {
   "cell_type": "markdown",
   "metadata": {},
   "source": [
    "### Disadvantages of Sequential execution\n",
    "\n",
    "1. Intermediate result (Squares) requires memory space.\n",
    "2. Two scans of memory (of B, then of Sequares) -double the cache - misses."
   ]
  },
  {
   "cell_type": "markdown",
   "metadata": {},
   "source": [
    "### Pipelined execution\n",
    "\n",
    "Perform the whole computation in a single pass. For each element of B\n",
    "1. Compute the Square\n",
    "2. Enter the square as input to the reduce operation."
   ]
  },
  {
   "cell_type": "markdown",
   "metadata": {},
   "source": [
    "### Advantages of Pipelined execution\n",
    "\n",
    "1. Less memory required - intermediate result is not stored.\n",
    "2. Faster - only one pass through the Input RDD."
   ]
  },
  {
   "cell_type": "code",
   "execution_count": 10,
   "metadata": {},
   "outputs": [],
   "source": [
    "sc.stop()"
   ]
  },
  {
   "cell_type": "code",
   "execution_count": null,
   "metadata": {},
   "outputs": [],
   "source": []
  }
 ],
 "metadata": {
  "kernelspec": {
   "display_name": "Python 3",
   "language": "python",
   "name": "python3"
  },
  "language_info": {
   "codemirror_mode": {
    "name": "ipython",
    "version": 3
   },
   "file_extension": ".py",
   "mimetype": "text/x-python",
   "name": "python",
   "nbconvert_exporter": "python",
   "pygments_lexer": "ipython3",
   "version": "3.6.8"
  }
 },
 "nbformat": 4,
 "nbformat_minor": 4
}
