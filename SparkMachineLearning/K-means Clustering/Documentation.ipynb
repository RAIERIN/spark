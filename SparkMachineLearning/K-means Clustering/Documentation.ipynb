{
 "cells": [
  {
   "cell_type": "markdown",
   "metadata": {},
   "source": [
    "# Introduction\n",
    "\n",
    "### K-means\n",
    "K-means is one of the most commonly used clustering algorithms that clusters the data points into a predefined number of clusters. The MLib implementation includes parallelized variant of the K-means++ method called kmeans||.\n",
    "\n",
    "KMeans is implemented as an Estimator and generates a KMeansModel as the base model."
   ]
  },
  {
   "cell_type": "markdown",
   "metadata": {},
   "source": [
    "### Input Columns\n",
    "\n",
    "       Param name   |\t  Type(s)\t |   Default\t |    Description\n",
    "       ---------------------------------------------------------------\n",
    "       featuresCol\t      Vector\t   \"features\"\t     Feature vector\n",
    "### Output Columns\n",
    "        \n",
    "       Param name    |\t  Type(s)\t |   Default\t |    Description\n",
    "       ---------------------------------------------------------------\n",
    "       predictionCol\tInt\t\"prediction\"\tPredicted cluster center"
   ]
  }
 ],
 "metadata": {
  "kernelspec": {
   "display_name": "Python 3",
   "language": "python",
   "name": "python3"
  },
  "language_info": {
   "codemirror_mode": {
    "name": "ipython",
    "version": 3
   },
   "file_extension": ".py",
   "mimetype": "text/x-python",
   "name": "python",
   "nbconvert_exporter": "python",
   "pygments_lexer": "ipython3",
   "version": "3.6.8"
  }
 },
 "nbformat": 4,
 "nbformat_minor": 4
}
